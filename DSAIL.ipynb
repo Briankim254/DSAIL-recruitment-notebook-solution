{
  "nbformat": 4,
  "nbformat_minor": 0,
  "metadata": {
    "colab": {
      "provenance": [],
      "authorship_tag": "ABX9TyPpJvjH0TtmHcyRKoL+7RF2",
      "include_colab_link": true
    },
    "kernelspec": {
      "name": "python3",
      "display_name": "Python 3"
    },
    "language_info": {
      "name": "python"
    }
  },
  "cells": [
    {
      "cell_type": "markdown",
      "metadata": {
        "id": "view-in-github",
        "colab_type": "text"
      },
      "source": [
        "<a href=\"https://colab.research.google.com/github/Briankim254/DSAIL-recruitment-notebook-solution/blob/main/DSAIL.ipynb\" target=\"_parent\"><img src=\"https://colab.research.google.com/assets/colab-badge.svg\" alt=\"Open In Colab\"/></a>"
      ]
    },
    {
      "cell_type": "markdown",
      "source": [
        "\n",
        "\n",
        "1. Consider the functionf(x, y) = (1.5 − x + xy)2 + (2.25 − x + xy2)2 + (2.625 − x + xy3)2.\n",
        " Write python code to determine its minimum with −4.5 ≤ x, y ≤ 4.5.\n",
        "\n",
        "\n"
      ],
      "metadata": {
        "id": "SRvUS3RSzymJ"
      }
    },
    {
      "cell_type": "code",
      "execution_count": 47,
      "metadata": {
        "id": "9oLsqTDbxwnm"
      },
      "outputs": [],
      "source": [
        "import numpy as np\n",
        "from scipy.optimize import minimize\n",
        "import matplotlib.pyplot as plt\n",
        "from scipy.stats import norm\n",
        "import pandas as pd"
      ]
    },
    {
      "cell_type": "code",
      "source": [
        "def objective_function(params):\n",
        "    x, y = params\n",
        "    return (1.5 - x + x * y)**2 + (2.25 - x + x * y**2)**2 + (2.625 - x + x * y**3)**2"
      ],
      "metadata": {
        "id": "2UidFX-KyABT"
      },
      "execution_count": 48,
      "outputs": []
    },
    {
      "cell_type": "code",
      "source": [
        "initial_guess = [0.0, 0.0]"
      ],
      "metadata": {
        "id": "CWgiN_5GyKGw"
      },
      "execution_count": 49,
      "outputs": []
    },
    {
      "cell_type": "code",
      "source": [
        "bounds = [(-4.5, 4.5), (-4.5, 4.5)]"
      ],
      "metadata": {
        "id": "Fl72o9VJyQYk"
      },
      "execution_count": 50,
      "outputs": []
    },
    {
      "cell_type": "code",
      "source": [
        "result = minimize(objective_function, initial_guess, bounds=bounds)"
      ],
      "metadata": {
        "id": "6pSwRYKsybX3"
      },
      "execution_count": 51,
      "outputs": []
    },
    {
      "cell_type": "code",
      "source": [
        "x_min, y_min = result.x\n",
        "min_value = result.fun"
      ],
      "metadata": {
        "id": "euCvc-9iyiAZ"
      },
      "execution_count": 52,
      "outputs": []
    },
    {
      "cell_type": "code",
      "source": [
        "print(f\"Minimum point: (x, y) = ({x_min}, {y_min})\")\n",
        "print(f\"Minimum value of the function: {min_value}\")"
      ],
      "metadata": {
        "colab": {
          "base_uri": "https://localhost:8080/"
        },
        "id": "j7-Y4v0_youz",
        "outputId": "55859146-e15c-4739-b3ab-1c7bcc512c82"
      },
      "execution_count": 53,
      "outputs": [
        {
          "output_type": "stream",
          "name": "stdout",
          "text": [
            "Minimum point: (x, y) = (3.000000954208383, 0.5000002666553034)\n",
            "Minimum value of the function: 1.665530209948989e-13\n"
          ]
        }
      ]
    },
    {
      "cell_type": "markdown",
      "source": [
        "End of Question 1.\n"
      ],
      "metadata": {
        "id": "WXQszeVK6ci5"
      }
    },
    {
      "cell_type": "markdown",
      "source": [
        "2. The data in data q2.csv are believed to be drawn from a Gaussian distribution.\n",
        " Using python, plot a histogram of these data and superimpose a Gaussian with the appropriate mean and variance."
      ],
      "metadata": {
        "id": "VC6Q8kMf0aGo"
      }
    },
    {
      "cell_type": "code",
      "source": [
        "data_q2 = np.genfromtxt('data_q2.csv', delimiter=',', skip_header=1)"
      ],
      "metadata": {
        "id": "IKwBn8OP0mR6"
      },
      "execution_count": 54,
      "outputs": []
    },
    {
      "cell_type": "code",
      "source": [
        "mean = np.mean(data_q2)\n",
        "std_dev = np.std(data_q2)"
      ],
      "metadata": {
        "id": "edyzESB-1KEP"
      },
      "execution_count": 55,
      "outputs": []
    },
    {
      "cell_type": "code",
      "source": [
        "x = np.linspace(min(data_q2), max(data_q2), 100)"
      ],
      "metadata": {
        "id": "e5H2uLPM1TGr"
      },
      "execution_count": 56,
      "outputs": []
    },
    {
      "cell_type": "code",
      "source": [
        "gaussian = norm.pdf(x, mean, std_dev)"
      ],
      "metadata": {
        "id": "7qQ-cqbu1eK5"
      },
      "execution_count": 57,
      "outputs": []
    },
    {
      "cell_type": "code",
      "source": [
        "plt.hist(data_q2, bins=10, density=True, alpha=0.6, color='b', label='Histogram')\n",
        "\n",
        "plt.plot(x, gaussian, 'r', label='Gaussian Fit')\n",
        "plt.xlabel('Value')\n",
        "plt.ylabel('Frequency')\n",
        "plt.legend()\n",
        "\n",
        "plt.show()"
      ],
      "metadata": {
        "colab": {
          "base_uri": "https://localhost:8080/",
          "height": 449
        },
        "id": "pvGa2WsJ1iGj",
        "outputId": "0f82566e-f77a-4e2c-d7f8-cd7d00d4197b"
      },
      "execution_count": 58,
      "outputs": [
        {
          "output_type": "display_data",
          "data": {
            "text/plain": [
              "<Figure size 640x480 with 1 Axes>"
            ],
            "image/png": "[encoded data removed]"
          },
          "metadata": {}
        }
      ]
    },
    {
      "cell_type": "markdown",
      "source": [
        "*End of Question 2."
      ],
      "metadata": {
        "id": "rgyAJ2MZ6Von"
      }
    },
    {
      "cell_type": "markdown",
      "source": [
        "3. We make measurements of a quantity y which is believed to be related to another variable\n",
        "x. We take N observations which are modeled as\n",
        "yi = β0 + β1xi + i where i\n",
        "is observation noise for i = 1, . . . , N. β0 and β1 are real constants which we need\n",
        "to estimate. We estimate them as\n",
        "βˆ\n",
        "1 =\n",
        "PN\n",
        "i=1(xi − x ̄)(yi − y ̄)\n",
        "PN\n",
        "i=1(xi − x ̄)\n",
        "2\n",
        "and\n",
        "βˆ\n",
        "0 =  ̄y − βˆ\n",
        "1x ̄ where  ̄x =\n",
        "1\n",
        "N\n",
        "PN\n",
        "i=1 xi and  ̄y =\n",
        "1\n",
        "N\n",
        "PN\n",
        "i=1 yi\n",
        ".\n",
        "The data in data q3.csv correspond to xi and yi for i = 1, . . . , N. Write python code to\n",
        "determine βˆ\n",
        "0 and βˆ\n",
        "1 and plot the data as well as the line y = βˆ\n",
        "0 + βˆ\n",
        "1x."
      ],
      "metadata": {
        "id": "5o5oc2WE5abz"
      }
    },
    {
      "cell_type": "code",
      "source": [
        "data_q3 = pd.read_csv('data_q3.csv')"
      ],
      "metadata": {
        "id": "j_Sv60ij6hpt"
      },
      "execution_count": 59,
      "outputs": []
    },
    {
      "cell_type": "code",
      "source": [
        "x = data_q3['x']\n",
        "y = data_q3['y']"
      ],
      "metadata": {
        "id": "sFZE79H969-b"
      },
      "execution_count": 60,
      "outputs": []
    },
    {
      "cell_type": "code",
      "source": [
        "x_bar = np.mean(x)\n",
        "y_bar = np.mean(y)"
      ],
      "metadata": {
        "id": "uTyEdFG67BR4"
      },
      "execution_count": 61,
      "outputs": []
    },
    {
      "cell_type": "code",
      "source": [
        "numerator = np.sum((x - x_bar) * (y - y_bar))\n",
        "denominator = np.sum((x - x_bar) ** 2)\n",
        "beta_hat1 = numerator / denominator"
      ],
      "metadata": {
        "id": "mLMV6eXF7Fqw"
      },
      "execution_count": 62,
      "outputs": []
    },
    {
      "cell_type": "code",
      "source": [
        "beta_hat0 = y_bar - beta_hat1 * x_bar"
      ],
      "metadata": {
        "id": "GnElOiPu7KZs"
      },
      "execution_count": 63,
      "outputs": []
    },
    {
      "cell_type": "code",
      "source": [
        "print(f'Estimated beta_hat0: {beta_hat0:.4f}')\n",
        "print(f'Estimated beta_hat1: {beta_hat1:.4f}')"
      ],
      "metadata": {
        "colab": {
          "base_uri": "https://localhost:8080/"
        },
        "id": "XZtMClHJ8qiR",
        "outputId": "504acbe9-a77e-4c25-d987-2f094ec8d1c3"
      },
      "execution_count": 64,
      "outputs": [
        {
          "output_type": "stream",
          "name": "stdout",
          "text": [
            "Estimated beta_hat0: -0.0809\n",
            "Estimated beta_hat1: 0.4609\n"
          ]
        }
      ]
    },
    {
      "cell_type": "code",
      "source": [
        "plt.scatter(x, y, label='Data Points')\n",
        "x_range = np.linspace(min(x), max(x), 100)\n",
        "y_pred = beta_hat0 + beta_hat1 * x_range\n",
        "plt.plot(x_range, y_pred, 'r', label=f'Linear Regression: y = {beta_hat0:.4f} + {beta_hat1:.4f}x')\n",
        "\n",
        "\n",
        "plt.xlabel('x')\n",
        "plt.ylabel('y')\n",
        "plt.legend()\n",
        "\n",
        "plt.grid()\n",
        "plt.show()"
      ],
      "metadata": {
        "colab": {
          "base_uri": "https://localhost:8080/",
          "height": 449
        },
        "id": "6PlDaYgX9Ooo",
        "outputId": "875077d4-5b04-4fed-8510-ae2dc9f00df4"
      },
      "execution_count": 65,
      "outputs": [
        {
          "output_type": "display_data",
          "data": {
            "text/plain": [
              "<Figure size 640x480 with 1 Axes>"
            ],
            "image/png": "[encoded data removed]"
          },
          "metadata": {}
        }
      ]
    }
  ]
}